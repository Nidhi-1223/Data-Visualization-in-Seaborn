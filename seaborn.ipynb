{
 "cells": [
  {
   "cell_type": "markdown",
   "metadata": {},
   "source": [
    "## Data Visualization with Seaborn\n",
    "Get the data [here](https://www.kaggle.com/datasets/khalidative/crimeanalysis)"
   ]
  },
  {
   "cell_type": "code",
   "execution_count": 1,
   "metadata": {},
   "outputs": [],
   "source": [
    "#import the libraries\n",
    "import pandas as pd\n",
    "%matplotlib inline\n",
    "import matplotlib.pyplot as plt\n",
    "import seaborn as sns"
   ]
  },
  {
   "cell_type": "code",
   "execution_count": 2,
   "metadata": {},
   "outputs": [],
   "source": [
    "csv_state_rt = '/home/hp/Documents/College/Coding/Machine Learning/crimeanalysis/crime_by_state_rt.csv'"
   ]
  },
  {
   "cell_type": "code",
   "execution_count": 3,
   "metadata": {},
   "outputs": [],
   "source": [
    "data = pd.read_csv(csv_state_rt)"
   ]
  },
  {
   "cell_type": "code",
   "execution_count": 4,
   "metadata": {},
   "outputs": [
    {
     "data": {
      "text/html": [
       "<div>\n",
       "<style scoped>\n",
       "    .dataframe tbody tr th:only-of-type {\n",
       "        vertical-align: middle;\n",
       "    }\n",
       "\n",
       "    .dataframe tbody tr th {\n",
       "        vertical-align: top;\n",
       "    }\n",
       "\n",
       "    .dataframe thead th {\n",
       "        text-align: right;\n",
       "    }\n",
       "</style>\n",
       "<table border=\"1\" class=\"dataframe\">\n",
       "  <thead>\n",
       "    <tr style=\"text-align: right;\">\n",
       "      <th></th>\n",
       "      <th>STATE/UT</th>\n",
       "      <th>Year</th>\n",
       "      <th>Murder</th>\n",
       "      <th>Assault on women</th>\n",
       "      <th>Kidnapping and Abduction</th>\n",
       "      <th>Dacoity</th>\n",
       "      <th>Robbery</th>\n",
       "      <th>Arson</th>\n",
       "      <th>Hurt</th>\n",
       "      <th>Prevention of atrocities (POA) Act</th>\n",
       "      <th>Protection of Civil Rights (PCR) Act</th>\n",
       "      <th>Other Crimes Against SCs</th>\n",
       "    </tr>\n",
       "  </thead>\n",
       "  <tbody>\n",
       "    <tr>\n",
       "      <th>0</th>\n",
       "      <td>ANDHRA PRADESH</td>\n",
       "      <td>2001</td>\n",
       "      <td>45</td>\n",
       "      <td>69</td>\n",
       "      <td>22</td>\n",
       "      <td>3</td>\n",
       "      <td>2</td>\n",
       "      <td>6</td>\n",
       "      <td>518</td>\n",
       "      <td>950</td>\n",
       "      <td>312</td>\n",
       "      <td>1006</td>\n",
       "    </tr>\n",
       "    <tr>\n",
       "      <th>1</th>\n",
       "      <td>ANDHRA PRADESH</td>\n",
       "      <td>2002</td>\n",
       "      <td>60</td>\n",
       "      <td>98</td>\n",
       "      <td>18</td>\n",
       "      <td>0</td>\n",
       "      <td>4</td>\n",
       "      <td>12</td>\n",
       "      <td>568</td>\n",
       "      <td>830</td>\n",
       "      <td>459</td>\n",
       "      <td>1336</td>\n",
       "    </tr>\n",
       "    <tr>\n",
       "      <th>2</th>\n",
       "      <td>ANDHRA PRADESH</td>\n",
       "      <td>2003</td>\n",
       "      <td>33</td>\n",
       "      <td>79</td>\n",
       "      <td>27</td>\n",
       "      <td>1</td>\n",
       "      <td>15</td>\n",
       "      <td>4</td>\n",
       "      <td>615</td>\n",
       "      <td>1234</td>\n",
       "      <td>165</td>\n",
       "      <td>1386</td>\n",
       "    </tr>\n",
       "    <tr>\n",
       "      <th>3</th>\n",
       "      <td>ANDHRA PRADESH</td>\n",
       "      <td>2004</td>\n",
       "      <td>39</td>\n",
       "      <td>66</td>\n",
       "      <td>28</td>\n",
       "      <td>0</td>\n",
       "      <td>7</td>\n",
       "      <td>20</td>\n",
       "      <td>474</td>\n",
       "      <td>1319</td>\n",
       "      <td>68</td>\n",
       "      <td>1234</td>\n",
       "    </tr>\n",
       "    <tr>\n",
       "      <th>4</th>\n",
       "      <td>ANDHRA PRADESH</td>\n",
       "      <td>2005</td>\n",
       "      <td>37</td>\n",
       "      <td>74</td>\n",
       "      <td>21</td>\n",
       "      <td>0</td>\n",
       "      <td>0</td>\n",
       "      <td>9</td>\n",
       "      <td>459</td>\n",
       "      <td>1244</td>\n",
       "      <td>61</td>\n",
       "      <td>1212</td>\n",
       "    </tr>\n",
       "  </tbody>\n",
       "</table>\n",
       "</div>"
      ],
      "text/plain": [
       "         STATE/UT  Year  Murder  Assault on women  Kidnapping and Abduction  \\\n",
       "0  ANDHRA PRADESH  2001      45                69                        22   \n",
       "1  ANDHRA PRADESH  2002      60                98                        18   \n",
       "2  ANDHRA PRADESH  2003      33                79                        27   \n",
       "3  ANDHRA PRADESH  2004      39                66                        28   \n",
       "4  ANDHRA PRADESH  2005      37                74                        21   \n",
       "\n",
       "   Dacoity  Robbery  Arson  Hurt  Prevention of atrocities (POA) Act  \\\n",
       "0        3        2      6   518                                 950   \n",
       "1        0        4     12   568                                 830   \n",
       "2        1       15      4   615                                1234   \n",
       "3        0        7     20   474                                1319   \n",
       "4        0        0      9   459                                1244   \n",
       "\n",
       "   Protection of Civil Rights (PCR) Act  Other Crimes Against SCs  \n",
       "0                                   312                      1006  \n",
       "1                                   459                      1336  \n",
       "2                                   165                      1386  \n",
       "3                                    68                      1234  \n",
       "4                                    61                      1212  "
      ]
     },
     "execution_count": 4,
     "metadata": {},
     "output_type": "execute_result"
    }
   ],
   "source": [
    "data.head()"
   ]
  },
  {
   "cell_type": "code",
   "execution_count": 5,
   "metadata": {},
   "outputs": [
    {
     "name": "stdout",
     "output_type": "stream",
     "text": [
      "<class 'pandas.core.frame.DataFrame'>\n",
      "RangeIndex: 420 entries, 0 to 419\n",
      "Data columns (total 12 columns):\n",
      " #   Column                                Non-Null Count  Dtype \n",
      "---  ------                                --------------  ----- \n",
      " 0   STATE/UT                              420 non-null    object\n",
      " 1   Year                                  420 non-null    int64 \n",
      " 2   Murder                                420 non-null    int64 \n",
      " 3   Assault on women                      420 non-null    int64 \n",
      " 4   Kidnapping and Abduction              420 non-null    int64 \n",
      " 5   Dacoity                               420 non-null    int64 \n",
      " 6   Robbery                               420 non-null    int64 \n",
      " 7   Arson                                 420 non-null    int64 \n",
      " 8   Hurt                                  420 non-null    int64 \n",
      " 9   Prevention of atrocities (POA) Act    420 non-null    int64 \n",
      " 10  Protection of Civil Rights (PCR) Act  420 non-null    int64 \n",
      " 11  Other Crimes Against SCs              420 non-null    int64 \n",
      "dtypes: int64(11), object(1)\n",
      "memory usage: 39.5+ KB\n"
     ]
    }
   ],
   "source": [
    "data.info()"
   ]
  },
  {
   "cell_type": "code",
   "execution_count": 38,
   "metadata": {},
   "outputs": [],
   "source": [
    "data = pd.read_csv(csv_state_rt, index_col='Year')"
   ]
  },
  {
   "cell_type": "code",
   "execution_count": 7,
   "metadata": {},
   "outputs": [
    {
     "data": {
      "text/html": [
       "<div>\n",
       "<style scoped>\n",
       "    .dataframe tbody tr th:only-of-type {\n",
       "        vertical-align: middle;\n",
       "    }\n",
       "\n",
       "    .dataframe tbody tr th {\n",
       "        vertical-align: top;\n",
       "    }\n",
       "\n",
       "    .dataframe thead th {\n",
       "        text-align: right;\n",
       "    }\n",
       "</style>\n",
       "<table border=\"1\" class=\"dataframe\">\n",
       "  <thead>\n",
       "    <tr style=\"text-align: right;\">\n",
       "      <th></th>\n",
       "      <th>STATE/UT</th>\n",
       "      <th>Murder</th>\n",
       "      <th>Assault on women</th>\n",
       "      <th>Kidnapping and Abduction</th>\n",
       "      <th>Dacoity</th>\n",
       "      <th>Robbery</th>\n",
       "      <th>Arson</th>\n",
       "      <th>Hurt</th>\n",
       "      <th>Prevention of atrocities (POA) Act</th>\n",
       "      <th>Protection of Civil Rights (PCR) Act</th>\n",
       "      <th>Other Crimes Against SCs</th>\n",
       "    </tr>\n",
       "    <tr>\n",
       "      <th>Year</th>\n",
       "      <th></th>\n",
       "      <th></th>\n",
       "      <th></th>\n",
       "      <th></th>\n",
       "      <th></th>\n",
       "      <th></th>\n",
       "      <th></th>\n",
       "      <th></th>\n",
       "      <th></th>\n",
       "      <th></th>\n",
       "      <th></th>\n",
       "    </tr>\n",
       "  </thead>\n",
       "  <tbody>\n",
       "    <tr>\n",
       "      <th>2001-01-01</th>\n",
       "      <td>ANDHRA PRADESH</td>\n",
       "      <td>45</td>\n",
       "      <td>69</td>\n",
       "      <td>22</td>\n",
       "      <td>3</td>\n",
       "      <td>2</td>\n",
       "      <td>6</td>\n",
       "      <td>518</td>\n",
       "      <td>950</td>\n",
       "      <td>312</td>\n",
       "      <td>1006</td>\n",
       "    </tr>\n",
       "    <tr>\n",
       "      <th>2002-01-01</th>\n",
       "      <td>ANDHRA PRADESH</td>\n",
       "      <td>60</td>\n",
       "      <td>98</td>\n",
       "      <td>18</td>\n",
       "      <td>0</td>\n",
       "      <td>4</td>\n",
       "      <td>12</td>\n",
       "      <td>568</td>\n",
       "      <td>830</td>\n",
       "      <td>459</td>\n",
       "      <td>1336</td>\n",
       "    </tr>\n",
       "    <tr>\n",
       "      <th>2003-01-01</th>\n",
       "      <td>ANDHRA PRADESH</td>\n",
       "      <td>33</td>\n",
       "      <td>79</td>\n",
       "      <td>27</td>\n",
       "      <td>1</td>\n",
       "      <td>15</td>\n",
       "      <td>4</td>\n",
       "      <td>615</td>\n",
       "      <td>1234</td>\n",
       "      <td>165</td>\n",
       "      <td>1386</td>\n",
       "    </tr>\n",
       "    <tr>\n",
       "      <th>2004-01-01</th>\n",
       "      <td>ANDHRA PRADESH</td>\n",
       "      <td>39</td>\n",
       "      <td>66</td>\n",
       "      <td>28</td>\n",
       "      <td>0</td>\n",
       "      <td>7</td>\n",
       "      <td>20</td>\n",
       "      <td>474</td>\n",
       "      <td>1319</td>\n",
       "      <td>68</td>\n",
       "      <td>1234</td>\n",
       "    </tr>\n",
       "    <tr>\n",
       "      <th>2005-01-01</th>\n",
       "      <td>ANDHRA PRADESH</td>\n",
       "      <td>37</td>\n",
       "      <td>74</td>\n",
       "      <td>21</td>\n",
       "      <td>0</td>\n",
       "      <td>0</td>\n",
       "      <td>9</td>\n",
       "      <td>459</td>\n",
       "      <td>1244</td>\n",
       "      <td>61</td>\n",
       "      <td>1212</td>\n",
       "    </tr>\n",
       "  </tbody>\n",
       "</table>\n",
       "</div>"
      ],
      "text/plain": [
       "                  STATE/UT  Murder  Assault on women  \\\n",
       "Year                                                   \n",
       "2001-01-01  ANDHRA PRADESH      45                69   \n",
       "2002-01-01  ANDHRA PRADESH      60                98   \n",
       "2003-01-01  ANDHRA PRADESH      33                79   \n",
       "2004-01-01  ANDHRA PRADESH      39                66   \n",
       "2005-01-01  ANDHRA PRADESH      37                74   \n",
       "\n",
       "            Kidnapping and Abduction  Dacoity  Robbery  Arson  Hurt  \\\n",
       "Year                                                                  \n",
       "2001-01-01                        22        3        2      6   518   \n",
       "2002-01-01                        18        0        4     12   568   \n",
       "2003-01-01                        27        1       15      4   615   \n",
       "2004-01-01                        28        0        7     20   474   \n",
       "2005-01-01                        21        0        0      9   459   \n",
       "\n",
       "            Prevention of atrocities (POA) Act  \\\n",
       "Year                                             \n",
       "2001-01-01                                 950   \n",
       "2002-01-01                                 830   \n",
       "2003-01-01                                1234   \n",
       "2004-01-01                                1319   \n",
       "2005-01-01                                1244   \n",
       "\n",
       "            Protection of Civil Rights (PCR) Act  Other Crimes Against SCs  \n",
       "Year                                                                        \n",
       "2001-01-01                                   312                      1006  \n",
       "2002-01-01                                   459                      1336  \n",
       "2003-01-01                                   165                      1386  \n",
       "2004-01-01                                    68                      1234  \n",
       "2005-01-01                                    61                      1212  "
      ]
     },
     "execution_count": 7,
     "metadata": {},
     "output_type": "execute_result"
    }
   ],
   "source": [
    "data.head()"
   ]
  },
  {
   "cell_type": "code",
   "execution_count": 8,
   "metadata": {},
   "outputs": [
    {
     "name": "stdout",
     "output_type": "stream",
     "text": [
      "<class 'pandas.core.frame.DataFrame'>\n",
      "DatetimeIndex: 420 entries, 2001-01-01 to 2012-01-01\n",
      "Data columns (total 11 columns):\n",
      " #   Column                                Non-Null Count  Dtype \n",
      "---  ------                                --------------  ----- \n",
      " 0   STATE/UT                              420 non-null    object\n",
      " 1   Murder                                420 non-null    int64 \n",
      " 2   Assault on women                      420 non-null    int64 \n",
      " 3   Kidnapping and Abduction              420 non-null    int64 \n",
      " 4   Dacoity                               420 non-null    int64 \n",
      " 5   Robbery                               420 non-null    int64 \n",
      " 6   Arson                                 420 non-null    int64 \n",
      " 7   Hurt                                  420 non-null    int64 \n",
      " 8   Prevention of atrocities (POA) Act    420 non-null    int64 \n",
      " 9   Protection of Civil Rights (PCR) Act  420 non-null    int64 \n",
      " 10  Other Crimes Against SCs              420 non-null    int64 \n",
      "dtypes: int64(10), object(1)\n",
      "memory usage: 39.4+ KB\n"
     ]
    }
   ],
   "source": [
    "data.info()"
   ]
  },
  {
   "cell_type": "markdown",
   "metadata": {},
   "source": [
    "## 1.1 Line Charts\n",
    "Line plots best show trends over a period of time. Multiple plots can be used to show how different variables change over a period of time"
   ]
  },
  {
   "cell_type": "code",
   "execution_count": 9,
   "metadata": {},
   "outputs": [
    {
     "data": {
      "text/plain": [
       "ANDHRA PRADESH       12\n",
       "UTTARAKHAND          12\n",
       "PUNJAB               12\n",
       "RAJASTHAN            12\n",
       "SIKKIM               12\n",
       "TAMIL NADU           12\n",
       "TRIPURA              12\n",
       "UTTAR PRADESH        12\n",
       "WEST BENGAL          12\n",
       "NAGALAND             12\n",
       "A & N ISLANDS        12\n",
       "CHANDIGARH           12\n",
       "D & N HAVELI         12\n",
       "DAMAN & DIU          12\n",
       "DELHI                12\n",
       "LAKSHADWEEP          12\n",
       "ODISHA               12\n",
       "MIZORAM              12\n",
       "ARUNACHAL PRADESH    12\n",
       "HIMACHAL PRADESH     12\n",
       "ASSAM                12\n",
       "BIHAR                12\n",
       "CHHATTISGARH         12\n",
       "GOA                  12\n",
       "GUJARAT              12\n",
       "HARYANA              12\n",
       "JAMMU & KASHMIR      12\n",
       "MEGHALAYA            12\n",
       "JHARKHAND            12\n",
       "KARNATAKA            12\n",
       "KERALA               12\n",
       "MADHYA PRADESH       12\n",
       "MAHARASHTRA          12\n",
       "MANIPUR              12\n",
       "PUDUCHERRY           12\n",
       "Name: STATE/UT, dtype: int64"
      ]
     },
     "execution_count": 9,
     "metadata": {},
     "output_type": "execute_result"
    }
   ],
   "source": [
    "#lets look into how many different states we have\n",
    "data['STATE/UT'].value_counts()"
   ]
  },
  {
   "cell_type": "code",
   "execution_count": 11,
   "metadata": {},
   "outputs": [
    {
     "data": {
      "text/html": [
       "<div>\n",
       "<style scoped>\n",
       "    .dataframe tbody tr th:only-of-type {\n",
       "        vertical-align: middle;\n",
       "    }\n",
       "\n",
       "    .dataframe tbody tr th {\n",
       "        vertical-align: top;\n",
       "    }\n",
       "\n",
       "    .dataframe thead th {\n",
       "        text-align: right;\n",
       "    }\n",
       "</style>\n",
       "<table border=\"1\" class=\"dataframe\">\n",
       "  <thead>\n",
       "    <tr style=\"text-align: right;\">\n",
       "      <th></th>\n",
       "      <th>STATE/UT</th>\n",
       "      <th>Murder</th>\n",
       "      <th>Assault on women</th>\n",
       "      <th>Kidnapping and Abduction</th>\n",
       "      <th>Dacoity</th>\n",
       "      <th>Robbery</th>\n",
       "      <th>Arson</th>\n",
       "      <th>Hurt</th>\n",
       "      <th>Prevention of atrocities (POA) Act</th>\n",
       "      <th>Protection of Civil Rights (PCR) Act</th>\n",
       "      <th>Other Crimes Against SCs</th>\n",
       "    </tr>\n",
       "    <tr>\n",
       "      <th>Year</th>\n",
       "      <th></th>\n",
       "      <th></th>\n",
       "      <th></th>\n",
       "      <th></th>\n",
       "      <th></th>\n",
       "      <th></th>\n",
       "      <th></th>\n",
       "      <th></th>\n",
       "      <th></th>\n",
       "      <th></th>\n",
       "      <th></th>\n",
       "    </tr>\n",
       "  </thead>\n",
       "  <tbody>\n",
       "    <tr>\n",
       "      <th>2001-01-01</th>\n",
       "      <td>ANDHRA PRADESH</td>\n",
       "      <td>45</td>\n",
       "      <td>69</td>\n",
       "      <td>22</td>\n",
       "      <td>3</td>\n",
       "      <td>2</td>\n",
       "      <td>6</td>\n",
       "      <td>518</td>\n",
       "      <td>950</td>\n",
       "      <td>312</td>\n",
       "      <td>1006</td>\n",
       "    </tr>\n",
       "    <tr>\n",
       "      <th>2002-01-01</th>\n",
       "      <td>ANDHRA PRADESH</td>\n",
       "      <td>60</td>\n",
       "      <td>98</td>\n",
       "      <td>18</td>\n",
       "      <td>0</td>\n",
       "      <td>4</td>\n",
       "      <td>12</td>\n",
       "      <td>568</td>\n",
       "      <td>830</td>\n",
       "      <td>459</td>\n",
       "      <td>1336</td>\n",
       "    </tr>\n",
       "    <tr>\n",
       "      <th>2003-01-01</th>\n",
       "      <td>ANDHRA PRADESH</td>\n",
       "      <td>33</td>\n",
       "      <td>79</td>\n",
       "      <td>27</td>\n",
       "      <td>1</td>\n",
       "      <td>15</td>\n",
       "      <td>4</td>\n",
       "      <td>615</td>\n",
       "      <td>1234</td>\n",
       "      <td>165</td>\n",
       "      <td>1386</td>\n",
       "    </tr>\n",
       "    <tr>\n",
       "      <th>2004-01-01</th>\n",
       "      <td>ANDHRA PRADESH</td>\n",
       "      <td>39</td>\n",
       "      <td>66</td>\n",
       "      <td>28</td>\n",
       "      <td>0</td>\n",
       "      <td>7</td>\n",
       "      <td>20</td>\n",
       "      <td>474</td>\n",
       "      <td>1319</td>\n",
       "      <td>68</td>\n",
       "      <td>1234</td>\n",
       "    </tr>\n",
       "    <tr>\n",
       "      <th>2005-01-01</th>\n",
       "      <td>ANDHRA PRADESH</td>\n",
       "      <td>37</td>\n",
       "      <td>74</td>\n",
       "      <td>21</td>\n",
       "      <td>0</td>\n",
       "      <td>0</td>\n",
       "      <td>9</td>\n",
       "      <td>459</td>\n",
       "      <td>1244</td>\n",
       "      <td>61</td>\n",
       "      <td>1212</td>\n",
       "    </tr>\n",
       "    <tr>\n",
       "      <th>...</th>\n",
       "      <td>...</td>\n",
       "      <td>...</td>\n",
       "      <td>...</td>\n",
       "      <td>...</td>\n",
       "      <td>...</td>\n",
       "      <td>...</td>\n",
       "      <td>...</td>\n",
       "      <td>...</td>\n",
       "      <td>...</td>\n",
       "      <td>...</td>\n",
       "      <td>...</td>\n",
       "    </tr>\n",
       "    <tr>\n",
       "      <th>2008-01-01</th>\n",
       "      <td>PUDUCHERRY</td>\n",
       "      <td>0</td>\n",
       "      <td>0</td>\n",
       "      <td>0</td>\n",
       "      <td>0</td>\n",
       "      <td>0</td>\n",
       "      <td>0</td>\n",
       "      <td>0</td>\n",
       "      <td>2</td>\n",
       "      <td>27</td>\n",
       "      <td>0</td>\n",
       "    </tr>\n",
       "    <tr>\n",
       "      <th>2009-01-01</th>\n",
       "      <td>PUDUCHERRY</td>\n",
       "      <td>0</td>\n",
       "      <td>0</td>\n",
       "      <td>0</td>\n",
       "      <td>0</td>\n",
       "      <td>0</td>\n",
       "      <td>0</td>\n",
       "      <td>0</td>\n",
       "      <td>3</td>\n",
       "      <td>26</td>\n",
       "      <td>0</td>\n",
       "    </tr>\n",
       "    <tr>\n",
       "      <th>2010-01-01</th>\n",
       "      <td>PUDUCHERRY</td>\n",
       "      <td>1</td>\n",
       "      <td>0</td>\n",
       "      <td>1</td>\n",
       "      <td>0</td>\n",
       "      <td>0</td>\n",
       "      <td>0</td>\n",
       "      <td>1</td>\n",
       "      <td>2</td>\n",
       "      <td>26</td>\n",
       "      <td>0</td>\n",
       "    </tr>\n",
       "    <tr>\n",
       "      <th>2011-01-01</th>\n",
       "      <td>PUDUCHERRY</td>\n",
       "      <td>0</td>\n",
       "      <td>0</td>\n",
       "      <td>0</td>\n",
       "      <td>0</td>\n",
       "      <td>0</td>\n",
       "      <td>0</td>\n",
       "      <td>0</td>\n",
       "      <td>1</td>\n",
       "      <td>15</td>\n",
       "      <td>2</td>\n",
       "    </tr>\n",
       "    <tr>\n",
       "      <th>2012-01-01</th>\n",
       "      <td>PUDUCHERRY</td>\n",
       "      <td>2</td>\n",
       "      <td>0</td>\n",
       "      <td>0</td>\n",
       "      <td>0</td>\n",
       "      <td>0</td>\n",
       "      <td>0</td>\n",
       "      <td>0</td>\n",
       "      <td>1</td>\n",
       "      <td>20</td>\n",
       "      <td>1</td>\n",
       "    </tr>\n",
       "  </tbody>\n",
       "</table>\n",
       "<p>420 rows × 11 columns</p>\n",
       "</div>"
      ],
      "text/plain": [
       "                  STATE/UT  Murder  Assault on women  \\\n",
       "Year                                                   \n",
       "2001-01-01  ANDHRA PRADESH      45                69   \n",
       "2002-01-01  ANDHRA PRADESH      60                98   \n",
       "2003-01-01  ANDHRA PRADESH      33                79   \n",
       "2004-01-01  ANDHRA PRADESH      39                66   \n",
       "2005-01-01  ANDHRA PRADESH      37                74   \n",
       "...                    ...     ...               ...   \n",
       "2008-01-01      PUDUCHERRY       0                 0   \n",
       "2009-01-01      PUDUCHERRY       0                 0   \n",
       "2010-01-01      PUDUCHERRY       1                 0   \n",
       "2011-01-01      PUDUCHERRY       0                 0   \n",
       "2012-01-01      PUDUCHERRY       2                 0   \n",
       "\n",
       "            Kidnapping and Abduction  Dacoity  Robbery  Arson  Hurt  \\\n",
       "Year                                                                  \n",
       "2001-01-01                        22        3        2      6   518   \n",
       "2002-01-01                        18        0        4     12   568   \n",
       "2003-01-01                        27        1       15      4   615   \n",
       "2004-01-01                        28        0        7     20   474   \n",
       "2005-01-01                        21        0        0      9   459   \n",
       "...                              ...      ...      ...    ...   ...   \n",
       "2008-01-01                         0        0        0      0     0   \n",
       "2009-01-01                         0        0        0      0     0   \n",
       "2010-01-01                         1        0        0      0     1   \n",
       "2011-01-01                         0        0        0      0     0   \n",
       "2012-01-01                         0        0        0      0     0   \n",
       "\n",
       "            Prevention of atrocities (POA) Act  \\\n",
       "Year                                             \n",
       "2001-01-01                                 950   \n",
       "2002-01-01                                 830   \n",
       "2003-01-01                                1234   \n",
       "2004-01-01                                1319   \n",
       "2005-01-01                                1244   \n",
       "...                                        ...   \n",
       "2008-01-01                                   2   \n",
       "2009-01-01                                   3   \n",
       "2010-01-01                                   2   \n",
       "2011-01-01                                   1   \n",
       "2012-01-01                                   1   \n",
       "\n",
       "            Protection of Civil Rights (PCR) Act  Other Crimes Against SCs  \n",
       "Year                                                                        \n",
       "2001-01-01                                   312                      1006  \n",
       "2002-01-01                                   459                      1336  \n",
       "2003-01-01                                   165                      1386  \n",
       "2004-01-01                                    68                      1234  \n",
       "2005-01-01                                    61                      1212  \n",
       "...                                          ...                       ...  \n",
       "2008-01-01                                    27                         0  \n",
       "2009-01-01                                    26                         0  \n",
       "2010-01-01                                    26                         0  \n",
       "2011-01-01                                    15                         2  \n",
       "2012-01-01                                    20                         1  \n",
       "\n",
       "[420 rows x 11 columns]"
      ]
     },
     "execution_count": 11,
     "metadata": {},
     "output_type": "execute_result"
    }
   ],
   "source": [
    "data"
   ]
  },
  {
   "cell_type": "code",
   "execution_count": 12,
   "metadata": {},
   "outputs": [
    {
     "data": {
      "text/html": [
       "<div>\n",
       "<style scoped>\n",
       "    .dataframe tbody tr th:only-of-type {\n",
       "        vertical-align: middle;\n",
       "    }\n",
       "\n",
       "    .dataframe tbody tr th {\n",
       "        vertical-align: top;\n",
       "    }\n",
       "\n",
       "    .dataframe thead th {\n",
       "        text-align: right;\n",
       "    }\n",
       "</style>\n",
       "<table border=\"1\" class=\"dataframe\">\n",
       "  <thead>\n",
       "    <tr style=\"text-align: right;\">\n",
       "      <th></th>\n",
       "      <th>Murder</th>\n",
       "      <th>Assault on women</th>\n",
       "      <th>Kidnapping and Abduction</th>\n",
       "      <th>Dacoity</th>\n",
       "      <th>Robbery</th>\n",
       "      <th>Arson</th>\n",
       "    </tr>\n",
       "    <tr>\n",
       "      <th>Year</th>\n",
       "      <th></th>\n",
       "      <th></th>\n",
       "      <th></th>\n",
       "      <th></th>\n",
       "      <th></th>\n",
       "      <th></th>\n",
       "    </tr>\n",
       "  </thead>\n",
       "  <tbody>\n",
       "    <tr>\n",
       "      <th>2001-01-01</th>\n",
       "      <td>45</td>\n",
       "      <td>69</td>\n",
       "      <td>22</td>\n",
       "      <td>3</td>\n",
       "      <td>2</td>\n",
       "      <td>6</td>\n",
       "    </tr>\n",
       "    <tr>\n",
       "      <th>2002-01-01</th>\n",
       "      <td>60</td>\n",
       "      <td>98</td>\n",
       "      <td>18</td>\n",
       "      <td>0</td>\n",
       "      <td>4</td>\n",
       "      <td>12</td>\n",
       "    </tr>\n",
       "    <tr>\n",
       "      <th>2003-01-01</th>\n",
       "      <td>33</td>\n",
       "      <td>79</td>\n",
       "      <td>27</td>\n",
       "      <td>1</td>\n",
       "      <td>15</td>\n",
       "      <td>4</td>\n",
       "    </tr>\n",
       "    <tr>\n",
       "      <th>2004-01-01</th>\n",
       "      <td>39</td>\n",
       "      <td>66</td>\n",
       "      <td>28</td>\n",
       "      <td>0</td>\n",
       "      <td>7</td>\n",
       "      <td>20</td>\n",
       "    </tr>\n",
       "    <tr>\n",
       "      <th>2005-01-01</th>\n",
       "      <td>37</td>\n",
       "      <td>74</td>\n",
       "      <td>21</td>\n",
       "      <td>0</td>\n",
       "      <td>0</td>\n",
       "      <td>9</td>\n",
       "    </tr>\n",
       "    <tr>\n",
       "      <th>2006-01-01</th>\n",
       "      <td>52</td>\n",
       "      <td>97</td>\n",
       "      <td>12</td>\n",
       "      <td>3</td>\n",
       "      <td>5</td>\n",
       "      <td>13</td>\n",
       "    </tr>\n",
       "    <tr>\n",
       "      <th>2007-01-01</th>\n",
       "      <td>46</td>\n",
       "      <td>105</td>\n",
       "      <td>25</td>\n",
       "      <td>0</td>\n",
       "      <td>0</td>\n",
       "      <td>17</td>\n",
       "    </tr>\n",
       "    <tr>\n",
       "      <th>2008-01-01</th>\n",
       "      <td>48</td>\n",
       "      <td>88</td>\n",
       "      <td>18</td>\n",
       "      <td>0</td>\n",
       "      <td>0</td>\n",
       "      <td>5</td>\n",
       "    </tr>\n",
       "    <tr>\n",
       "      <th>2009-01-01</th>\n",
       "      <td>35</td>\n",
       "      <td>99</td>\n",
       "      <td>19</td>\n",
       "      <td>1</td>\n",
       "      <td>4</td>\n",
       "      <td>12</td>\n",
       "    </tr>\n",
       "    <tr>\n",
       "      <th>2010-01-01</th>\n",
       "      <td>43</td>\n",
       "      <td>100</td>\n",
       "      <td>18</td>\n",
       "      <td>0</td>\n",
       "      <td>1</td>\n",
       "      <td>17</td>\n",
       "    </tr>\n",
       "    <tr>\n",
       "      <th>2011-01-01</th>\n",
       "      <td>64</td>\n",
       "      <td>131</td>\n",
       "      <td>19</td>\n",
       "      <td>1</td>\n",
       "      <td>0</td>\n",
       "      <td>14</td>\n",
       "    </tr>\n",
       "    <tr>\n",
       "      <th>2012-01-01</th>\n",
       "      <td>54</td>\n",
       "      <td>104</td>\n",
       "      <td>11</td>\n",
       "      <td>0</td>\n",
       "      <td>1</td>\n",
       "      <td>7</td>\n",
       "    </tr>\n",
       "  </tbody>\n",
       "</table>\n",
       "</div>"
      ],
      "text/plain": [
       "            Murder  Assault on women  Kidnapping and Abduction  Dacoity  \\\n",
       "Year                                                                      \n",
       "2001-01-01      45                69                        22        3   \n",
       "2002-01-01      60                98                        18        0   \n",
       "2003-01-01      33                79                        27        1   \n",
       "2004-01-01      39                66                        28        0   \n",
       "2005-01-01      37                74                        21        0   \n",
       "2006-01-01      52                97                        12        3   \n",
       "2007-01-01      46               105                        25        0   \n",
       "2008-01-01      48                88                        18        0   \n",
       "2009-01-01      35                99                        19        1   \n",
       "2010-01-01      43               100                        18        0   \n",
       "2011-01-01      64               131                        19        1   \n",
       "2012-01-01      54               104                        11        0   \n",
       "\n",
       "            Robbery  Arson  \n",
       "Year                        \n",
       "2001-01-01        2      6  \n",
       "2002-01-01        4     12  \n",
       "2003-01-01       15      4  \n",
       "2004-01-01        7     20  \n",
       "2005-01-01        0      9  \n",
       "2006-01-01        5     13  \n",
       "2007-01-01        0     17  \n",
       "2008-01-01        0      5  \n",
       "2009-01-01        4     12  \n",
       "2010-01-01        1     17  \n",
       "2011-01-01        0     14  \n",
       "2012-01-01        1      7  "
      ]
     },
     "execution_count": 12,
     "metadata": {},
     "output_type": "execute_result"
    }
   ],
   "source": [
    "state_1 = data.iloc[:12,1:7 ]\n",
    "state_1"
   ]
  },
  {
   "cell_type": "code",
   "execution_count": 14,
   "metadata": {},
   "outputs": [
    {
     "data": {
      "text/plain": [
       "<AxesSubplot:title={'center':'Line plot of crimes in state 1'}, xlabel='Year'>"
      ]
     },
     "execution_count": 14,
     "metadata": {},
     "output_type": "execute_result"
    },
    {
     "data": {
      "image/png": "[encoded data removed]",
      "text/plain": [
       "<Figure size 504x360 with 1 Axes>"
      ]
     },
     "metadata": {
      "needs_background": "light"
     },
     "output_type": "display_data"
    }
   ],
   "source": [
    "plt.figure(figsize=(7,5))\n",
    "plt.title('Line plot of crimes in state 1')\n",
    "\n",
    "sns.lineplot(data=state_1)\n",
    "\n",
    "plt.xlabel('Year of occurence')\n",
    "plt.ylabel('Number of crimes')"
   ]
  },
  {
   "cell_type": "markdown",
   "metadata": {},
   "source": [
    "### Only considering Robbery and Arson"
   ]
  },
  {
   "cell_type": "code",
   "execution_count": 16,
   "metadata": {},
   "outputs": [
    {
     "data": {
      "text/plain": [
       "Text(0, 0.5, 'Number of crimes')"
      ]
     },
     "execution_count": 16,
     "metadata": {},
     "output_type": "execute_result"
    },
    {
     "data": {
      "image/png": "[encoded data removed]",
      "text/plain": [
       "<Figure size 504x360 with 1 Axes>"
      ]
     },
     "metadata": {
      "needs_background": "light"
     },
     "output_type": "display_data"
    }
   ],
   "source": [
    "plt.figure(figsize=(7,5))\n",
    "plt.title('Line plot of Robbery and Arson in State 1 ')\n",
    "\n",
    "sns.lineplot(data=state_1['Robbery'], label='Robbery')\n",
    "sns.lineplot(data=state_1['Arson'], label='Arson')\n",
    "\n",
    "plt.xlabel('Year of occurence')\n",
    "plt.ylabel('Number of crimes')"
   ]
  },
  {
   "cell_type": "markdown",
   "metadata": {},
   "source": [
    "## 1.2 Bar Charts"
   ]
  },
  {
   "cell_type": "code",
   "execution_count": 17,
   "metadata": {},
   "outputs": [
    {
     "data": {
      "text/html": [
       "<div>\n",
       "<style scoped>\n",
       "    .dataframe tbody tr th:only-of-type {\n",
       "        vertical-align: middle;\n",
       "    }\n",
       "\n",
       "    .dataframe tbody tr th {\n",
       "        vertical-align: top;\n",
       "    }\n",
       "\n",
       "    .dataframe thead th {\n",
       "        text-align: right;\n",
       "    }\n",
       "</style>\n",
       "<table border=\"1\" class=\"dataframe\">\n",
       "  <thead>\n",
       "    <tr style=\"text-align: right;\">\n",
       "      <th></th>\n",
       "      <th>Murder</th>\n",
       "      <th>Assault on women</th>\n",
       "      <th>Kidnapping and Abduction</th>\n",
       "      <th>Dacoity</th>\n",
       "      <th>Robbery</th>\n",
       "      <th>Arson</th>\n",
       "    </tr>\n",
       "    <tr>\n",
       "      <th>Year</th>\n",
       "      <th></th>\n",
       "      <th></th>\n",
       "      <th></th>\n",
       "      <th></th>\n",
       "      <th></th>\n",
       "      <th></th>\n",
       "    </tr>\n",
       "  </thead>\n",
       "  <tbody>\n",
       "    <tr>\n",
       "      <th>2001-01-01</th>\n",
       "      <td>45</td>\n",
       "      <td>69</td>\n",
       "      <td>22</td>\n",
       "      <td>3</td>\n",
       "      <td>2</td>\n",
       "      <td>6</td>\n",
       "    </tr>\n",
       "    <tr>\n",
       "      <th>2002-01-01</th>\n",
       "      <td>60</td>\n",
       "      <td>98</td>\n",
       "      <td>18</td>\n",
       "      <td>0</td>\n",
       "      <td>4</td>\n",
       "      <td>12</td>\n",
       "    </tr>\n",
       "    <tr>\n",
       "      <th>2003-01-01</th>\n",
       "      <td>33</td>\n",
       "      <td>79</td>\n",
       "      <td>27</td>\n",
       "      <td>1</td>\n",
       "      <td>15</td>\n",
       "      <td>4</td>\n",
       "    </tr>\n",
       "    <tr>\n",
       "      <th>2004-01-01</th>\n",
       "      <td>39</td>\n",
       "      <td>66</td>\n",
       "      <td>28</td>\n",
       "      <td>0</td>\n",
       "      <td>7</td>\n",
       "      <td>20</td>\n",
       "    </tr>\n",
       "    <tr>\n",
       "      <th>2005-01-01</th>\n",
       "      <td>37</td>\n",
       "      <td>74</td>\n",
       "      <td>21</td>\n",
       "      <td>0</td>\n",
       "      <td>0</td>\n",
       "      <td>9</td>\n",
       "    </tr>\n",
       "    <tr>\n",
       "      <th>2006-01-01</th>\n",
       "      <td>52</td>\n",
       "      <td>97</td>\n",
       "      <td>12</td>\n",
       "      <td>3</td>\n",
       "      <td>5</td>\n",
       "      <td>13</td>\n",
       "    </tr>\n",
       "    <tr>\n",
       "      <th>2007-01-01</th>\n",
       "      <td>46</td>\n",
       "      <td>105</td>\n",
       "      <td>25</td>\n",
       "      <td>0</td>\n",
       "      <td>0</td>\n",
       "      <td>17</td>\n",
       "    </tr>\n",
       "    <tr>\n",
       "      <th>2008-01-01</th>\n",
       "      <td>48</td>\n",
       "      <td>88</td>\n",
       "      <td>18</td>\n",
       "      <td>0</td>\n",
       "      <td>0</td>\n",
       "      <td>5</td>\n",
       "    </tr>\n",
       "    <tr>\n",
       "      <th>2009-01-01</th>\n",
       "      <td>35</td>\n",
       "      <td>99</td>\n",
       "      <td>19</td>\n",
       "      <td>1</td>\n",
       "      <td>4</td>\n",
       "      <td>12</td>\n",
       "    </tr>\n",
       "    <tr>\n",
       "      <th>2010-01-01</th>\n",
       "      <td>43</td>\n",
       "      <td>100</td>\n",
       "      <td>18</td>\n",
       "      <td>0</td>\n",
       "      <td>1</td>\n",
       "      <td>17</td>\n",
       "    </tr>\n",
       "    <tr>\n",
       "      <th>2011-01-01</th>\n",
       "      <td>64</td>\n",
       "      <td>131</td>\n",
       "      <td>19</td>\n",
       "      <td>1</td>\n",
       "      <td>0</td>\n",
       "      <td>14</td>\n",
       "    </tr>\n",
       "    <tr>\n",
       "      <th>2012-01-01</th>\n",
       "      <td>54</td>\n",
       "      <td>104</td>\n",
       "      <td>11</td>\n",
       "      <td>0</td>\n",
       "      <td>1</td>\n",
       "      <td>7</td>\n",
       "    </tr>\n",
       "  </tbody>\n",
       "</table>\n",
       "</div>"
      ],
      "text/plain": [
       "            Murder  Assault on women  Kidnapping and Abduction  Dacoity  \\\n",
       "Year                                                                      \n",
       "2001-01-01      45                69                        22        3   \n",
       "2002-01-01      60                98                        18        0   \n",
       "2003-01-01      33                79                        27        1   \n",
       "2004-01-01      39                66                        28        0   \n",
       "2005-01-01      37                74                        21        0   \n",
       "2006-01-01      52                97                        12        3   \n",
       "2007-01-01      46               105                        25        0   \n",
       "2008-01-01      48                88                        18        0   \n",
       "2009-01-01      35                99                        19        1   \n",
       "2010-01-01      43               100                        18        0   \n",
       "2011-01-01      64               131                        19        1   \n",
       "2012-01-01      54               104                        11        0   \n",
       "\n",
       "            Robbery  Arson  \n",
       "Year                        \n",
       "2001-01-01        2      6  \n",
       "2002-01-01        4     12  \n",
       "2003-01-01       15      4  \n",
       "2004-01-01        7     20  \n",
       "2005-01-01        0      9  \n",
       "2006-01-01        5     13  \n",
       "2007-01-01        0     17  \n",
       "2008-01-01        0      5  \n",
       "2009-01-01        4     12  \n",
       "2010-01-01        1     17  \n",
       "2011-01-01        0     14  \n",
       "2012-01-01        1      7  "
      ]
     },
     "execution_count": 17,
     "metadata": {},
     "output_type": "execute_result"
    }
   ],
   "source": [
    "state_1"
   ]
  },
  {
   "cell_type": "code",
   "execution_count": 24,
   "metadata": {},
   "outputs": [
    {
     "data": {
      "text/plain": [
       "Text(0, 0.5, 'Number of robberies')"
      ]
     },
     "execution_count": 24,
     "metadata": {},
     "output_type": "execute_result"
    },
    {
     "data": {
      "image/png": "[encoded data removed]",
      "text/plain": [
       "<Figure size 1440x360 with 1 Axes>"
      ]
     },
     "metadata": {
      "needs_background": "light"
     },
     "output_type": "display_data"
    }
   ],
   "source": [
    "plt.figure(figsize=(20,5))\n",
    "plt.title('Bar plot of crimes in state 1 ')\n",
    "\n",
    "sns.barplot(x=state_1.index, y=state_1.Robbery)\n",
    "\n",
    "plt.xlabel('Year of occurence')\n",
    "plt.ylabel('Number of robberies')"
   ]
  },
  {
   "cell_type": "markdown",
   "metadata": {},
   "source": [
    "## 1.3 Heat Maps"
   ]
  },
  {
   "cell_type": "code",
   "execution_count": 25,
   "metadata": {},
   "outputs": [
    {
     "data": {
      "text/plain": [
       "Text(68.99999999999999, 0.5, 'Number of crimes')"
      ]
     },
     "execution_count": 25,
     "metadata": {},
     "output_type": "execute_result"
    },
    {
     "data": {
      "image/png": "[encoded data removed]",
      "text/plain": [
       "<Figure size 720x720 with 2 Axes>"
      ]
     },
     "metadata": {
      "needs_background": "light"
     },
     "output_type": "display_data"
    }
   ],
   "source": [
    "plt.figure(figsize=(10,10))\n",
    "plt.title('Heat map of number of crimes in state 1')\n",
    "\n",
    "sns.heatmap(data=state_1, annot = True)\n",
    "\n",
    "plt.xlabel('Year of occurence')\n",
    "plt.ylabel('Number of crimes')"
   ]
  },
  {
   "cell_type": "markdown",
   "metadata": {},
   "source": [
    "## 1.4 Scatter Plots\n",
    "For this section we will change the entry in the `Kidnapping & Abduction` column to `Yes` if the value of entry is greater than or equal to 10 and `No` if otherwise.\n",
    "\n",
    "We will define a function to do the same and use the `apply()` method to apply these changes in our dataset"
   ]
  },
  {
   "cell_type": "code",
   "execution_count": 26,
   "metadata": {},
   "outputs": [],
   "source": [
    "def is_high(row):\n",
    "    if row['Kidnapping and Abduction'] >= 10:\n",
    "        row['Kidnapping and Abduction'] = 'Yes'\n",
    "    else:\n",
    "        row['Kidnapping and Abduction'] = 'No'\n",
    "    return row\n",
    "    "
   ]
  },
  {
   "cell_type": "code",
   "execution_count": 28,
   "metadata": {},
   "outputs": [
    {
     "data": {
      "text/html": [
       "<div>\n",
       "<style scoped>\n",
       "    .dataframe tbody tr th:only-of-type {\n",
       "        vertical-align: middle;\n",
       "    }\n",
       "\n",
       "    .dataframe tbody tr th {\n",
       "        vertical-align: top;\n",
       "    }\n",
       "\n",
       "    .dataframe thead th {\n",
       "        text-align: right;\n",
       "    }\n",
       "</style>\n",
       "<table border=\"1\" class=\"dataframe\">\n",
       "  <thead>\n",
       "    <tr style=\"text-align: right;\">\n",
       "      <th></th>\n",
       "      <th>STATE/UT</th>\n",
       "      <th>Murder</th>\n",
       "      <th>Assault on women</th>\n",
       "      <th>Kidnapping and Abduction</th>\n",
       "      <th>Dacoity</th>\n",
       "      <th>Robbery</th>\n",
       "      <th>Arson</th>\n",
       "      <th>Hurt</th>\n",
       "      <th>Prevention of atrocities (POA) Act</th>\n",
       "      <th>Protection of Civil Rights (PCR) Act</th>\n",
       "      <th>Other Crimes Against SCs</th>\n",
       "    </tr>\n",
       "    <tr>\n",
       "      <th>Year</th>\n",
       "      <th></th>\n",
       "      <th></th>\n",
       "      <th></th>\n",
       "      <th></th>\n",
       "      <th></th>\n",
       "      <th></th>\n",
       "      <th></th>\n",
       "      <th></th>\n",
       "      <th></th>\n",
       "      <th></th>\n",
       "      <th></th>\n",
       "    </tr>\n",
       "  </thead>\n",
       "  <tbody>\n",
       "    <tr>\n",
       "      <th>2001-01-01</th>\n",
       "      <td>ANDHRA PRADESH</td>\n",
       "      <td>45</td>\n",
       "      <td>69</td>\n",
       "      <td>Yes</td>\n",
       "      <td>3</td>\n",
       "      <td>2</td>\n",
       "      <td>6</td>\n",
       "      <td>518</td>\n",
       "      <td>950</td>\n",
       "      <td>312</td>\n",
       "      <td>1006</td>\n",
       "    </tr>\n",
       "    <tr>\n",
       "      <th>2002-01-01</th>\n",
       "      <td>ANDHRA PRADESH</td>\n",
       "      <td>60</td>\n",
       "      <td>98</td>\n",
       "      <td>Yes</td>\n",
       "      <td>0</td>\n",
       "      <td>4</td>\n",
       "      <td>12</td>\n",
       "      <td>568</td>\n",
       "      <td>830</td>\n",
       "      <td>459</td>\n",
       "      <td>1336</td>\n",
       "    </tr>\n",
       "    <tr>\n",
       "      <th>2003-01-01</th>\n",
       "      <td>ANDHRA PRADESH</td>\n",
       "      <td>33</td>\n",
       "      <td>79</td>\n",
       "      <td>Yes</td>\n",
       "      <td>1</td>\n",
       "      <td>15</td>\n",
       "      <td>4</td>\n",
       "      <td>615</td>\n",
       "      <td>1234</td>\n",
       "      <td>165</td>\n",
       "      <td>1386</td>\n",
       "    </tr>\n",
       "    <tr>\n",
       "      <th>2004-01-01</th>\n",
       "      <td>ANDHRA PRADESH</td>\n",
       "      <td>39</td>\n",
       "      <td>66</td>\n",
       "      <td>Yes</td>\n",
       "      <td>0</td>\n",
       "      <td>7</td>\n",
       "      <td>20</td>\n",
       "      <td>474</td>\n",
       "      <td>1319</td>\n",
       "      <td>68</td>\n",
       "      <td>1234</td>\n",
       "    </tr>\n",
       "    <tr>\n",
       "      <th>2005-01-01</th>\n",
       "      <td>ANDHRA PRADESH</td>\n",
       "      <td>37</td>\n",
       "      <td>74</td>\n",
       "      <td>Yes</td>\n",
       "      <td>0</td>\n",
       "      <td>0</td>\n",
       "      <td>9</td>\n",
       "      <td>459</td>\n",
       "      <td>1244</td>\n",
       "      <td>61</td>\n",
       "      <td>1212</td>\n",
       "    </tr>\n",
       "    <tr>\n",
       "      <th>...</th>\n",
       "      <td>...</td>\n",
       "      <td>...</td>\n",
       "      <td>...</td>\n",
       "      <td>...</td>\n",
       "      <td>...</td>\n",
       "      <td>...</td>\n",
       "      <td>...</td>\n",
       "      <td>...</td>\n",
       "      <td>...</td>\n",
       "      <td>...</td>\n",
       "      <td>...</td>\n",
       "    </tr>\n",
       "    <tr>\n",
       "      <th>2008-01-01</th>\n",
       "      <td>PUDUCHERRY</td>\n",
       "      <td>0</td>\n",
       "      <td>0</td>\n",
       "      <td>No</td>\n",
       "      <td>0</td>\n",
       "      <td>0</td>\n",
       "      <td>0</td>\n",
       "      <td>0</td>\n",
       "      <td>2</td>\n",
       "      <td>27</td>\n",
       "      <td>0</td>\n",
       "    </tr>\n",
       "    <tr>\n",
       "      <th>2009-01-01</th>\n",
       "      <td>PUDUCHERRY</td>\n",
       "      <td>0</td>\n",
       "      <td>0</td>\n",
       "      <td>No</td>\n",
       "      <td>0</td>\n",
       "      <td>0</td>\n",
       "      <td>0</td>\n",
       "      <td>0</td>\n",
       "      <td>3</td>\n",
       "      <td>26</td>\n",
       "      <td>0</td>\n",
       "    </tr>\n",
       "    <tr>\n",
       "      <th>2010-01-01</th>\n",
       "      <td>PUDUCHERRY</td>\n",
       "      <td>1</td>\n",
       "      <td>0</td>\n",
       "      <td>No</td>\n",
       "      <td>0</td>\n",
       "      <td>0</td>\n",
       "      <td>0</td>\n",
       "      <td>1</td>\n",
       "      <td>2</td>\n",
       "      <td>26</td>\n",
       "      <td>0</td>\n",
       "    </tr>\n",
       "    <tr>\n",
       "      <th>2011-01-01</th>\n",
       "      <td>PUDUCHERRY</td>\n",
       "      <td>0</td>\n",
       "      <td>0</td>\n",
       "      <td>No</td>\n",
       "      <td>0</td>\n",
       "      <td>0</td>\n",
       "      <td>0</td>\n",
       "      <td>0</td>\n",
       "      <td>1</td>\n",
       "      <td>15</td>\n",
       "      <td>2</td>\n",
       "    </tr>\n",
       "    <tr>\n",
       "      <th>2012-01-01</th>\n",
       "      <td>PUDUCHERRY</td>\n",
       "      <td>2</td>\n",
       "      <td>0</td>\n",
       "      <td>No</td>\n",
       "      <td>0</td>\n",
       "      <td>0</td>\n",
       "      <td>0</td>\n",
       "      <td>0</td>\n",
       "      <td>1</td>\n",
       "      <td>20</td>\n",
       "      <td>1</td>\n",
       "    </tr>\n",
       "  </tbody>\n",
       "</table>\n",
       "<p>420 rows × 11 columns</p>\n",
       "</div>"
      ],
      "text/plain": [
       "                  STATE/UT  Murder  Assault on women Kidnapping and Abduction  \\\n",
       "Year                                                                            \n",
       "2001-01-01  ANDHRA PRADESH      45                69                      Yes   \n",
       "2002-01-01  ANDHRA PRADESH      60                98                      Yes   \n",
       "2003-01-01  ANDHRA PRADESH      33                79                      Yes   \n",
       "2004-01-01  ANDHRA PRADESH      39                66                      Yes   \n",
       "2005-01-01  ANDHRA PRADESH      37                74                      Yes   \n",
       "...                    ...     ...               ...                      ...   \n",
       "2008-01-01      PUDUCHERRY       0                 0                       No   \n",
       "2009-01-01      PUDUCHERRY       0                 0                       No   \n",
       "2010-01-01      PUDUCHERRY       1                 0                       No   \n",
       "2011-01-01      PUDUCHERRY       0                 0                       No   \n",
       "2012-01-01      PUDUCHERRY       2                 0                       No   \n",
       "\n",
       "            Dacoity  Robbery  Arson  Hurt  Prevention of atrocities (POA) Act  \\\n",
       "Year                                                                            \n",
       "2001-01-01        3        2      6   518                                 950   \n",
       "2002-01-01        0        4     12   568                                 830   \n",
       "2003-01-01        1       15      4   615                                1234   \n",
       "2004-01-01        0        7     20   474                                1319   \n",
       "2005-01-01        0        0      9   459                                1244   \n",
       "...             ...      ...    ...   ...                                 ...   \n",
       "2008-01-01        0        0      0     0                                   2   \n",
       "2009-01-01        0        0      0     0                                   3   \n",
       "2010-01-01        0        0      0     1                                   2   \n",
       "2011-01-01        0        0      0     0                                   1   \n",
       "2012-01-01        0        0      0     0                                   1   \n",
       "\n",
       "            Protection of Civil Rights (PCR) Act  Other Crimes Against SCs  \n",
       "Year                                                                        \n",
       "2001-01-01                                   312                      1006  \n",
       "2002-01-01                                   459                      1336  \n",
       "2003-01-01                                   165                      1386  \n",
       "2004-01-01                                    68                      1234  \n",
       "2005-01-01                                    61                      1212  \n",
       "...                                          ...                       ...  \n",
       "2008-01-01                                    27                         0  \n",
       "2009-01-01                                    26                         0  \n",
       "2010-01-01                                    26                         0  \n",
       "2011-01-01                                    15                         2  \n",
       "2012-01-01                                    20                         1  \n",
       "\n",
       "[420 rows x 11 columns]"
      ]
     },
     "execution_count": 28,
     "metadata": {},
     "output_type": "execute_result"
    }
   ],
   "source": [
    "data_copy = data.apply(is_high, axis='columns')\n",
    "data_copy"
   ]
  },
  {
   "cell_type": "code",
   "execution_count": 29,
   "metadata": {},
   "outputs": [
    {
     "data": {
      "text/plain": [
       "Text(0, 0.5, 'Assault on women')"
      ]
     },
     "execution_count": 29,
     "metadata": {},
     "output_type": "execute_result"
    },
    {
     "data": {
      "image/png": "[encoded data removed]",
      "text/plain": [
       "<Figure size 504x360 with 1 Axes>"
      ]
     },
     "metadata": {
      "needs_background": "light"
     },
     "output_type": "display_data"
    }
   ],
   "source": [
    "plt.figure(figsize=(7,5))\n",
    "plt.title('Scatter plot of Murder v/s Assault on women')\n",
    "\n",
    "sns.scatterplot(x=data_copy['Murder'], y=data_copy['Assault on women'])\n",
    "\n",
    "plt.xlabel('Murder')\n",
    "plt.ylabel('Assault on women')"
   ]
  },
  {
   "cell_type": "markdown",
   "metadata": {},
   "source": [
    "The above scatter plot shows that both these variables are positively correlated(upward slope). This shows that states with higher number of murders also have high number of assaults on women. \n",
    "\n",
    "Although this relationship can be seen easily, we may want to verify the strength of this relationship which can be done by just adding a `Regession line`.\n",
    "\n",
    "`Regression line ` represents the line that best fits the data."
   ]
  },
  {
   "cell_type": "markdown",
   "metadata": {},
   "source": [
    "### Scatter plots with Regression line"
   ]
  },
  {
   "cell_type": "code",
   "execution_count": 30,
   "metadata": {},
   "outputs": [
    {
     "data": {
      "text/plain": [
       "Text(0, 0.5, 'Assault on women')"
      ]
     },
     "execution_count": 30,
     "metadata": {},
     "output_type": "execute_result"
    },
    {
     "data": {
      "image/png": "[encoded data removed]",
      "text/plain": [
       "<Figure size 504x360 with 1 Axes>"
      ]
     },
     "metadata": {
      "needs_background": "light"
     },
     "output_type": "display_data"
    }
   ],
   "source": [
    "plt.figure(figsize=(7,5))\n",
    "plt.title('Scatter plot with a Regression Line')\n",
    "\n",
    "sns.regplot(x=data_copy['Murder'], y=data_copy['Assault on women'])\n",
    "\n",
    "plt.xlabel('Murder')\n",
    "plt.ylabel('Assault on women')"
   ]
  },
  {
   "cell_type": "markdown",
   "metadata": {},
   "source": [
    "### Color-coded Scatter Plots\n",
    "Scatter plots can also be used to show the relationship between 3 variables not necessarily using another axis for the third variable but by using color-coding points instead"
   ]
  },
  {
   "cell_type": "code",
   "execution_count": 31,
   "metadata": {},
   "outputs": [
    {
     "data": {
      "text/plain": [
       "Text(0, 0.5, 'Assault on women')"
      ]
     },
     "execution_count": 31,
     "metadata": {},
     "output_type": "execute_result"
    },
    {
     "data": {
      "image/png": "[encoded data removed]",
      "text/plain": [
       "<Figure size 504x360 with 1 Axes>"
      ]
     },
     "metadata": {
      "needs_background": "light"
     },
     "output_type": "display_data"
    }
   ],
   "source": [
    "plt.figure(figsize=(7,5))\n",
    "plt.title('Scatter plot using 3 variables')\n",
    "\n",
    "sns.scatterplot(x=data_copy['Murder'], y=data_copy['Assault on women'], hue=data_copy['Kidnapping and Abduction'])\n",
    "\n",
    "plt.xlabel('Murder')\n",
    "plt.ylabel('Assault on women')"
   ]
  },
  {
   "cell_type": "markdown",
   "metadata": {},
   "source": [
    "This scatter plot shows that variables are positively correlated(upward slope). This shows that states with higher number of murders also have high number of assaults on women. It also shows that in states with lesser kidnapping cases, the assaults on women increase very rapidly compared to the case where there are more number of kidnapping cases, in which the increase is slightly lower."
   ]
  },
  {
   "cell_type": "markdown",
   "metadata": {},
   "source": [
    "### Color-coded Scatter plots with Regression line"
   ]
  },
  {
   "cell_type": "code",
   "execution_count": 55,
   "metadata": {},
   "outputs": [
    {
     "data": {
      "text/plain": [
       "Text(40.50694444444444, 0.5, 'Assault on women')"
      ]
     },
     "execution_count": 55,
     "metadata": {},
     "output_type": "execute_result"
    },
    {
     "data": {
      "text/plain": [
       "<Figure size 504x360 with 0 Axes>"
      ]
     },
     "metadata": {},
     "output_type": "display_data"
    },
    {
     "data": {
      "image/png": "[encoded data removed]",
      "text/plain": [
       "<Figure size 500x360 with 1 Axes>"
      ]
     },
     "metadata": {
      "needs_background": "light"
     },
     "output_type": "display_data"
    }
   ],
   "source": [
    "plt.figure(figsize=(7,5))\n",
    "# plt.title('Scatter plot using 3 variables')\n",
    "\n",
    "sns.lmplot(x='Murder', y= 'Assault on women', hue='Kidnapping and Abduction', data=data_copy)\n",
    "\n",
    "plt.xlabel('Murder')\n",
    "plt.ylabel('Assault on women')"
   ]
  },
  {
   "cell_type": "markdown",
   "metadata": {},
   "source": [
    "### Scatter plot for continuous and categorical variables\n"
   ]
  },
  {
   "cell_type": "code",
   "execution_count": 37,
   "metadata": {},
   "outputs": [
    {
     "name": "stderr",
     "output_type": "stream",
     "text": [
      "/home/hp/.local/lib/python3.10/site-packages/seaborn/categorical.py:1296: UserWarning: 63.0% of the points cannot be placed; you may want to decrease the size of the markers or use stripplot.\n",
      "  warnings.warn(msg, UserWarning)\n"
     ]
    },
    {
     "data": {
      "text/plain": [
       "Text(0, 0.5, 'Kidnapping and Abduction')"
      ]
     },
     "execution_count": 37,
     "metadata": {},
     "output_type": "execute_result"
    },
    {
     "data": {
      "image/png": "[encoded data removed]",
      "text/plain": [
       "<Figure size 504x360 with 1 Axes>"
      ]
     },
     "metadata": {
      "needs_background": "light"
     },
     "output_type": "display_data"
    }
   ],
   "source": [
    "plt.figure(figsize=(7,5))\n",
    "plt.title('A categorical scatter plot')\n",
    "\n",
    "sns.swarmplot(x=data_copy['Assault on women'], y=data_copy['Kidnapping and Abduction'])\n",
    "\n",
    "plt.xlabel('Assault on women')\n",
    "plt.ylabel('Kidnapping and Abduction')"
   ]
  },
  {
   "cell_type": "markdown",
   "metadata": {},
   "source": [
    "## 1.5 Distributions\n",
    "Visualizing distributions of data helps in understanding the possible values that we can expect and how likely each value is."
   ]
  },
  {
   "cell_type": "code",
   "execution_count": 39,
   "metadata": {},
   "outputs": [
    {
     "data": {
      "text/html": [
       "<div>\n",
       "<style scoped>\n",
       "    .dataframe tbody tr th:only-of-type {\n",
       "        vertical-align: middle;\n",
       "    }\n",
       "\n",
       "    .dataframe tbody tr th {\n",
       "        vertical-align: top;\n",
       "    }\n",
       "\n",
       "    .dataframe thead th {\n",
       "        text-align: right;\n",
       "    }\n",
       "</style>\n",
       "<table border=\"1\" class=\"dataframe\">\n",
       "  <thead>\n",
       "    <tr style=\"text-align: right;\">\n",
       "      <th></th>\n",
       "      <th>Murder</th>\n",
       "      <th>Assault on women</th>\n",
       "      <th>Kidnapping and Abduction</th>\n",
       "      <th>Dacoity</th>\n",
       "      <th>Robbery</th>\n",
       "      <th>Arson</th>\n",
       "      <th>Hurt</th>\n",
       "    </tr>\n",
       "    <tr>\n",
       "      <th>Year</th>\n",
       "      <th></th>\n",
       "      <th></th>\n",
       "      <th></th>\n",
       "      <th></th>\n",
       "      <th></th>\n",
       "      <th></th>\n",
       "      <th></th>\n",
       "    </tr>\n",
       "  </thead>\n",
       "  <tbody>\n",
       "    <tr>\n",
       "      <th>2001</th>\n",
       "      <td>0</td>\n",
       "      <td>0</td>\n",
       "      <td>0</td>\n",
       "      <td>0</td>\n",
       "      <td>1</td>\n",
       "      <td>1</td>\n",
       "      <td>4</td>\n",
       "    </tr>\n",
       "    <tr>\n",
       "      <th>2002</th>\n",
       "      <td>3</td>\n",
       "      <td>0</td>\n",
       "      <td>4</td>\n",
       "      <td>0</td>\n",
       "      <td>2</td>\n",
       "      <td>2</td>\n",
       "      <td>14</td>\n",
       "    </tr>\n",
       "    <tr>\n",
       "      <th>2003</th>\n",
       "      <td>8</td>\n",
       "      <td>7</td>\n",
       "      <td>4</td>\n",
       "      <td>0</td>\n",
       "      <td>1</td>\n",
       "      <td>3</td>\n",
       "      <td>23</td>\n",
       "    </tr>\n",
       "    <tr>\n",
       "      <th>2004</th>\n",
       "      <td>0</td>\n",
       "      <td>1</td>\n",
       "      <td>1</td>\n",
       "      <td>0</td>\n",
       "      <td>1</td>\n",
       "      <td>1</td>\n",
       "      <td>3</td>\n",
       "    </tr>\n",
       "    <tr>\n",
       "      <th>2005</th>\n",
       "      <td>21</td>\n",
       "      <td>14</td>\n",
       "      <td>25</td>\n",
       "      <td>3</td>\n",
       "      <td>8</td>\n",
       "      <td>7</td>\n",
       "      <td>111</td>\n",
       "    </tr>\n",
       "    <tr>\n",
       "      <th>2006</th>\n",
       "      <td>5</td>\n",
       "      <td>11</td>\n",
       "      <td>27</td>\n",
       "      <td>4</td>\n",
       "      <td>11</td>\n",
       "      <td>7</td>\n",
       "      <td>114</td>\n",
       "    </tr>\n",
       "    <tr>\n",
       "      <th>2007</th>\n",
       "      <td>11</td>\n",
       "      <td>8</td>\n",
       "      <td>15</td>\n",
       "      <td>2</td>\n",
       "      <td>3</td>\n",
       "      <td>1</td>\n",
       "      <td>48</td>\n",
       "    </tr>\n",
       "    <tr>\n",
       "      <th>2008</th>\n",
       "      <td>9</td>\n",
       "      <td>16</td>\n",
       "      <td>20</td>\n",
       "      <td>5</td>\n",
       "      <td>6</td>\n",
       "      <td>3</td>\n",
       "      <td>24</td>\n",
       "    </tr>\n",
       "    <tr>\n",
       "      <th>2009</th>\n",
       "      <td>0</td>\n",
       "      <td>0</td>\n",
       "      <td>0</td>\n",
       "      <td>0</td>\n",
       "      <td>0</td>\n",
       "      <td>0</td>\n",
       "      <td>0</td>\n",
       "    </tr>\n",
       "    <tr>\n",
       "      <th>2010</th>\n",
       "      <td>0</td>\n",
       "      <td>0</td>\n",
       "      <td>0</td>\n",
       "      <td>0</td>\n",
       "      <td>0</td>\n",
       "      <td>0</td>\n",
       "      <td>0</td>\n",
       "    </tr>\n",
       "    <tr>\n",
       "      <th>2011</th>\n",
       "      <td>0</td>\n",
       "      <td>0</td>\n",
       "      <td>0</td>\n",
       "      <td>0</td>\n",
       "      <td>0</td>\n",
       "      <td>0</td>\n",
       "      <td>0</td>\n",
       "    </tr>\n",
       "    <tr>\n",
       "      <th>2012</th>\n",
       "      <td>0</td>\n",
       "      <td>0</td>\n",
       "      <td>0</td>\n",
       "      <td>0</td>\n",
       "      <td>0</td>\n",
       "      <td>0</td>\n",
       "      <td>0</td>\n",
       "    </tr>\n",
       "  </tbody>\n",
       "</table>\n",
       "</div>"
      ],
      "text/plain": [
       "      Murder  Assault on women  Kidnapping and Abduction  Dacoity  Robbery  \\\n",
       "Year                                                                         \n",
       "2001       0                 0                         0        0        1   \n",
       "2002       3                 0                         4        0        2   \n",
       "2003       8                 7                         4        0        1   \n",
       "2004       0                 1                         1        0        1   \n",
       "2005      21                14                        25        3        8   \n",
       "2006       5                11                        27        4       11   \n",
       "2007      11                 8                        15        2        3   \n",
       "2008       9                16                        20        5        6   \n",
       "2009       0                 0                         0        0        0   \n",
       "2010       0                 0                         0        0        0   \n",
       "2011       0                 0                         0        0        0   \n",
       "2012       0                 0                         0        0        0   \n",
       "\n",
       "      Arson  Hurt  \n",
       "Year               \n",
       "2001      1     4  \n",
       "2002      2    14  \n",
       "2003      3    23  \n",
       "2004      1     3  \n",
       "2005      7   111  \n",
       "2006      7   114  \n",
       "2007      1    48  \n",
       "2008      3    24  \n",
       "2009      0     0  \n",
       "2010      0     0  \n",
       "2011      0     0  \n",
       "2012      0     0  "
      ]
     },
     "execution_count": 39,
     "metadata": {},
     "output_type": "execute_result"
    }
   ],
   "source": [
    "state_1 = data.iloc[:12,1:8]\n",
    "state_2 = data.iloc[12:24, 1:8]\n",
    "state_3 = data.iloc[24:36,1:8]\n",
    "state_3"
   ]
  },
  {
   "cell_type": "markdown",
   "metadata": {},
   "source": [
    "### Histograms\n"
   ]
  },
  {
   "cell_type": "code",
   "execution_count": 42,
   "metadata": {},
   "outputs": [
    {
     "name": "stderr",
     "output_type": "stream",
     "text": [
      "/home/hp/.local/lib/python3.10/site-packages/seaborn/distributions.py:2619: FutureWarning: `distplot` is a deprecated function and will be removed in a future version. Please adapt your code to use either `displot` (a figure-level function with similar flexibility) or `histplot` (an axes-level function for histograms).\n",
      "  warnings.warn(msg, FutureWarning)\n"
     ]
    },
    {
     "data": {
      "text/plain": [
       "<AxesSubplot:title={'center':'Histogram for Hurt'}, xlabel='Hurt'>"
      ]
     },
     "execution_count": 42,
     "metadata": {},
     "output_type": "execute_result"
    },
    {
     "data": {
      "image/png": "[encoded data removed]",
      "text/plain": [
       "<Figure size 504x360 with 1 Axes>"
      ]
     },
     "metadata": {
      "needs_background": "light"
     },
     "output_type": "display_data"
    }
   ],
   "source": [
    "plt.figure(figsize=(7,5))\n",
    "plt.title('Histogram for Hurt')\n",
    "\n",
    "sns.distplot(a = state_1['Hurt'], kde=False)  "
   ]
  },
  {
   "cell_type": "markdown",
   "metadata": {},
   "source": [
    "### Kernel Density Estimate plot (KDE)"
   ]
  },
  {
   "cell_type": "code",
   "execution_count": 43,
   "metadata": {},
   "outputs": [
    {
     "data": {
      "text/plain": [
       "<AxesSubplot:title={'center':'Density plot for Hurt'}, xlabel='Hurt', ylabel='Density'>"
      ]
     },
     "execution_count": 43,
     "metadata": {},
     "output_type": "execute_result"
    },
    {
     "data": {
      "image/png": "[encoded data removed]",
      "text/plain": [
       "<Figure size 504x360 with 1 Axes>"
      ]
     },
     "metadata": {
      "needs_background": "light"
     },
     "output_type": "display_data"
    }
   ],
   "source": [
    "plt.figure(figsize=(7,5))\n",
    "plt.title('Density plot for Hurt')\n",
    "\n",
    "sns.kdeplot(data=state_1['Hurt'], shade=True)"
   ]
  },
  {
   "cell_type": "markdown",
   "metadata": {},
   "source": [
    "### 2D KDE Plots"
   ]
  },
  {
   "cell_type": "code",
   "execution_count": 56,
   "metadata": {},
   "outputs": [
    {
     "data": {
      "text/plain": [
       "Text(333.4714285714286, 0.5, 'Hurt')"
      ]
     },
     "execution_count": 56,
     "metadata": {},
     "output_type": "execute_result"
    },
    {
     "data": {
      "text/plain": [
       "<Figure size 720x720 with 0 Axes>"
      ]
     },
     "metadata": {},
     "output_type": "display_data"
    },
    {
     "data": {
      "image/png": "[encoded data removed]",
      "text/plain": [
       "<Figure size 432x432 with 3 Axes>"
      ]
     },
     "metadata": {
      "needs_background": "light"
     },
     "output_type": "display_data"
    }
   ],
   "source": [
    "plt.figure(figsize=(10,10))\n",
    "\n",
    "sns.jointplot(x=state_1['Arson'], y=state_1['Hurt'],kind='kde', shade=True)\n",
    "\n",
    "# plt.title('2D-KDE plot between Arson and Hurt')\n",
    "plt.xlabel('Arson')\n",
    "plt.ylabel('Hurt')\n"
   ]
  },
  {
   "cell_type": "markdown",
   "metadata": {},
   "source": [
    "### Color-coded plots"
   ]
  },
  {
   "cell_type": "code",
   "execution_count": 58,
   "metadata": {},
   "outputs": [
    {
     "data": {
      "text/plain": [
       "<matplotlib.legend.Legend at 0x7f246f7cfa90>"
      ]
     },
     "execution_count": 58,
     "metadata": {},
     "output_type": "execute_result"
    },
    {
     "data": {
      "image/png": "[encoded data removed]",
      "text/plain": [
       "<Figure size 432x288 with 1 Axes>"
      ]
     },
     "metadata": {
      "needs_background": "light"
     },
     "output_type": "display_data"
    }
   ],
   "source": [
    "sns.distplot(a=state_1['Robbery'], label='State 1', kde=False)\n",
    "sns.distplot(a=state_2['Robbery'], label='State 2', kde=False)\n",
    "sns.distplot(a=state_3['Robbery'], label= 'State 3', kde=False)\n",
    "\n",
    "plt.title('Histogram of crime occurences, by state')\n",
    "plt.legend()"
   ]
  },
  {
   "cell_type": "code",
   "execution_count": 60,
   "metadata": {},
   "outputs": [
    {
     "data": {
      "text/plain": [
       "<matplotlib.legend.Legend at 0x7f246f767280>"
      ]
     },
     "execution_count": 60,
     "metadata": {},
     "output_type": "execute_result"
    },
    {
     "data": {
      "image/png": "[encoded data removed]",
      "text/plain": [
       "<Figure size 432x288 with 1 Axes>"
      ]
     },
     "metadata": {
      "needs_background": "light"
     },
     "output_type": "display_data"
    }
   ],
   "source": [
    "sns.kdeplot(data=state_1['Robbery'], label='state 1', shade=True)\n",
    "# sns.kdeplot(data=state_2['Robbery'], label='state 3', shade=True)\n",
    "sns.kdeplot(data=state_3['Robbery'], label = 'state 3', shade=True)\n",
    "\n",
    "plt.title('KDE plots of crime occurences, by state')\n",
    "plt.legend()"
   ]
  }
 ],
 "metadata": {
  "kernelspec": {
   "display_name": "Python 3.10.4 64-bit",
   "language": "python",
   "name": "python3"
  },
  "language_info": {
   "codemirror_mode": {
    "name": "ipython",
    "version": 3
   },
   "file_extension": ".py",
   "mimetype": "text/x-python",
   "name": "python",
   "nbconvert_exporter": "python",
   "pygments_lexer": "ipython3",
   "version": "3.10.6"
  },
  "orig_nbformat": 4,
  "vscode": {
   "interpreter": {
    "hash": "916dbcbb3f70747c44a77c7bcd40155683ae19c65e1c03b4aa3499c5328201f1"
   }
  }
 },
 "nbformat": 4,
 "nbformat_minor": 2
}
